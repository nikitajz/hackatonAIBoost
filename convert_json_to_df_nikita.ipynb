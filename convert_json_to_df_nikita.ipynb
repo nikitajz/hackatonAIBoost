{
 "cells": [
  {
   "cell_type": "code",
   "execution_count": 15,
   "metadata": {
    "collapsed": true
   },
   "outputs": [],
   "source": [
    "import pandas as pd\n",
    "from pandas.io.json import json_normalize\n",
    "import json"
   ]
  },
  {
   "cell_type": "code",
   "execution_count": 72,
   "metadata": {},
   "outputs": [],
   "source": [
    "doctor_files = !ls data"
   ]
  },
  {
   "cell_type": "code",
   "execution_count": 73,
   "metadata": {},
   "outputs": [
    {
     "data": {
      "text/plain": [
       "['allergolog.json',\n",
       " 'ammolog.json',\n",
       " 'arkolog.json',\n",
       " 'dicinskiy_yurist.json',\n",
       " 'dietolog.json',\n",
       " 'fektsionist.json',\n",
       " 'frolog.json',\n",
       " 'ftalmolog.json',\n",
       " 'gastroenterolog.json',\n",
       " 'genetik.json',\n",
       " 'ginekologija.json',\n",
       " 'koraja_pomoshh_03_online.json',\n",
       " 'kosmetolog.json',\n",
       " 'ksolog.json',\n",
       " 'r.json',\n",
       " 'roktolog.json',\n",
       " 'rtoped_travmatolog.json',\n",
       " 'venerolog.json']"
      ]
     },
     "execution_count": 73,
     "metadata": {},
     "output_type": "execute_result"
    }
   ],
   "source": [
    "doctor_files"
   ]
  },
  {
   "cell_type": "code",
   "execution_count": 117,
   "metadata": {
    "collapsed": true
   },
   "outputs": [],
   "source": [
    "df = pd.DataFrame(\n",
    "    columns=['doctor', 'doctor_en', 'age', 'gender', 'name', 'question', 'title', 'answer', \n",
    "             'doctor_name', 'answer_date']\n",
    "    )"
   ]
  },
  {
   "cell_type": "code",
   "execution_count": 115,
   "metadata": {},
   "outputs": [],
   "source": [
    "doc = pd.DataFrame(\n",
    "        columns=['doctor', 'doctor_en', 'age', 'gender', 'name', 'question', 'title', 'answer', \n",
    "             'doctor_name', 'answer_date']\n",
    ")\n",
    "\n",
    "def convert_file(jsonf):\n",
    "    doc = pd.DataFrame(\n",
    "        columns=['doctor', 'doctor_en', 'age', 'gender', 'name', 'question', 'title', 'answer', \n",
    "             'doctor_name', 'answer_date']\n",
    "        )\n",
    "    print(\"File length: \", len(jsonf[0]))\n",
    "    for e in jsonf[0]:\n",
    "        s = pd.Series(index=['doctor', 'doctor_en', 'age', 'gender', 'name', 'question', 'title', 'answer', \n",
    "                             'doctor_name', 'answer_date'])\n",
    "        s['doctor'] = e['cat_title']\n",
    "        s['age'] = e['age']\n",
    "        s['gender'] = e['sex']\n",
    "        s['name'] = e['name']\n",
    "        s['question'] = e['text']\n",
    "        s['title'] = e['title']\n",
    "        if len(e['answer']) > 0:\n",
    "            s['doctor_name'] = e['answer']['doctor_name']\n",
    "            s['answer_date'] = e['answer']['date']\n",
    "            s['answer'] = e['answer']['content']\n",
    "        doc = doc.append(s, ignore_index=True)\n",
    "    print('{} shape: {}'.format(s['doctor'], doc.shape))\n",
    "    return doc"
   ]
  },
  {
   "cell_type": "code",
   "execution_count": 121,
   "metadata": {},
   "outputs": [
    {
     "name": "stdout",
     "output_type": "stream",
     "text": [
      "File length:  10\n",
      "Аллерголог shape: (10, 10)\n",
      "File length:  10\n",
      "Маммолог shape: (10, 10)\n",
      "File length:  10\n",
      "Нарколог shape: (10, 10)\n",
      "File length:  10\n",
      "Пластический хирург shape: (10, 10)\n",
      "File length:  10\n",
      "Стоматолог shape: (10, 10)\n",
      "File length:  10\n",
      "Психиатр shape: (10, 10)\n",
      "File length:  10\n",
      "Дерматолог shape: (10, 10)\n",
      "File length:  10\n",
      "Детский хирург shape: (10, 10)\n",
      "File length:  10\n",
      "Детский эндокринолог shape: (10, 10)\n",
      "File length:  10\n",
      "Медицинский юрист shape: (10, 10)\n",
      "File length:  10\n",
      "Диетолог shape: (10, 10)\n",
      "File length:  10\n",
      "Эндокринолог shape: (10, 10)\n",
      "File length:  10\n",
      "Фармацевт shape: (10, 10)\n",
      "File length:  10\n",
      "Инфекционист shape: (10, 10)\n",
      "File length:  10\n",
      "Фитотерапевт shape: (10, 10)\n",
      "File length:  10\n",
      "Флеболог shape: (10, 10)\n",
      "File length:  10\n",
      "Нефролог shape: (10, 10)\n",
      "File length:  10\n",
      "Офтальмолог shape: (10, 10)\n",
      "File length:  10\n",
      "Гастроэнтеролог shape: (10, 10)\n",
      "File length:  10\n",
      "Гематолог shape: (10, 10)\n",
      "File length:  10\n",
      "Генетик shape: (10, 10)\n",
      "File length:  10\n",
      "Гинеколог shape: (10, 10)\n",
      "File length:  10\n",
      "Гомеопат shape: (10, 10)\n",
      "File length:  10\n",
      "Логопед shape: (10, 10)\n",
      "File length:  10\n",
      "Хирург shape: (10, 10)\n",
      "File length:  10\n",
      "Психолог shape: (10, 10)\n",
      "File length:  10\n",
      "Онколог shape: (10, 10)\n",
      "File length:  10\n",
      "Терапевт shape: (10, 10)\n",
      "File length:  10\n",
      "Косметолог shape: (10, 10)\n",
      "File length:  10\n",
      "Онкоуролог shape: (10, 10)\n",
      "File length:  10\n",
      "Сексолог-Андролог shape: (10, 10)\n",
      "File length:  10\n",
      "Лор shape: (10, 10)\n",
      "File length:  10\n",
      "Проктолог shape: (10, 10)\n",
      "File length:  10\n",
      "Ортопед-травматолог shape: (10, 10)\n",
      "File length:  10\n",
      "Пульмонолог shape: (10, 10)\n",
      "File length:  10\n",
      "Уролог shape: (10, 10)\n",
      "File length:  10\n",
      "Венеролог shape: (10, 10)\n",
      "File length:  10\n",
      "Нейрохирург shape: (10, 10)\n"
     ]
    }
   ],
   "source": [
    "doctor_files = !ls data\n",
    "for ff in doctor_files:\n",
    "    with open('data/' + ff, 'r') as f:\n",
    "        jd = json.load(f)\n",
    "    df = df.append(convert_file(jd))"
   ]
  },
  {
   "cell_type": "code",
   "execution_count": 126,
   "metadata": {},
   "outputs": [
    {
     "data": {
      "text/plain": [
       "10"
      ]
     },
     "execution_count": 126,
     "metadata": {},
     "output_type": "execute_result"
    }
   ],
   "source": [
    "len(jd[0])"
   ]
  },
  {
   "cell_type": "code",
   "execution_count": 122,
   "metadata": {},
   "outputs": [
    {
     "data": {
      "text/plain": [
       "(380, 10)"
      ]
     },
     "execution_count": 122,
     "metadata": {},
     "output_type": "execute_result"
    }
   ],
   "source": [
    "df.shape"
   ]
  },
  {
   "cell_type": "code",
   "execution_count": 125,
   "metadata": {},
   "outputs": [
    {
     "data": {
      "text/plain": [
       "Эндокринолог            11\n",
       "Гинеколог               11\n",
       "Лор                     10\n",
       "Нарколог                10\n",
       "Гастроэнтеролог         10\n",
       "Венеролог               10\n",
       "Проктолог               10\n",
       "Косметолог              10\n",
       "Дерматолог              10\n",
       "Фитотерапевт            10\n",
       "Флеболог                10\n",
       "Сексолог-Андролог       10\n",
       "Психиатр                10\n",
       "Пластический хирург     10\n",
       "Стоматолог              10\n",
       "Гематолог               10\n",
       "Терапевт                10\n",
       "Аллерголог              10\n",
       "Детский хирург          10\n",
       "Медицинский юрист       10\n",
       "Инфекционист            10\n",
       "Онколог                 10\n",
       "Маммолог                10\n",
       "Логопед                 10\n",
       "Нефролог                10\n",
       "Пульмонолог             10\n",
       "Онкоуролог              10\n",
       "Генетик                 10\n",
       "Психолог                10\n",
       "Гомеопат                10\n",
       "Нейрохирург             10\n",
       "Диетолог                10\n",
       "Ортопед-травматолог     10\n",
       "Офтальмолог             10\n",
       "Фармацевт               10\n",
       "Уролог                  10\n",
       "Хирург                   9\n",
       "Детский эндокринолог     9\n",
       "Name: doctor, dtype: int64"
      ]
     },
     "execution_count": 125,
     "metadata": {},
     "output_type": "execute_result"
    }
   ],
   "source": [
    "df['doctor'].value_counts()"
   ]
  },
  {
   "cell_type": "code",
   "execution_count": 103,
   "metadata": {},
   "outputs": [
    {
     "data": {
      "text/html": [
       "<div>\n",
       "<style>\n",
       "    .dataframe thead tr:only-child th {\n",
       "        text-align: right;\n",
       "    }\n",
       "\n",
       "    .dataframe thead th {\n",
       "        text-align: left;\n",
       "    }\n",
       "\n",
       "    .dataframe tbody tr th {\n",
       "        vertical-align: top;\n",
       "    }\n",
       "</style>\n",
       "<table border=\"1\" class=\"dataframe\">\n",
       "  <thead>\n",
       "    <tr style=\"text-align: right;\">\n",
       "      <th></th>\n",
       "      <th>doctor</th>\n",
       "      <th>doctor_en</th>\n",
       "      <th>age</th>\n",
       "      <th>gender</th>\n",
       "      <th>name</th>\n",
       "      <th>question</th>\n",
       "      <th>title</th>\n",
       "      <th>answer</th>\n",
       "      <th>doctor_name</th>\n",
       "      <th>answer_date</th>\n",
       "    </tr>\n",
       "  </thead>\n",
       "  <tbody>\n",
       "    <tr>\n",
       "      <th>0</th>\n",
       "      <td>Гастроэнтеролог</td>\n",
       "      <td>NaN</td>\n",
       "      <td>8 лет</td>\n",
       "      <td>Мужской</td>\n",
       "      <td>Альбина</td>\n",
       "      <td>Здравствуйте, у ребенка 30.06.17. были следующ...</td>\n",
       "      <td>Повышены показатели крови</td>\n",
       "      <td>NaN</td>\n",
       "      <td>NaN</td>\n",
       "      <td>NaN</td>\n",
       "    </tr>\n",
       "    <tr>\n",
       "      <th>1</th>\n",
       "      <td>Гастроэнтеролог</td>\n",
       "      <td>NaN</td>\n",
       "      <td>36 лет</td>\n",
       "      <td>Мужской</td>\n",
       "      <td>Роман, Москва</td>\n",
       "      <td>Здравствуйте, мене очень интересует вопрос: пр...</td>\n",
       "      <td>Что эфиктивние</td>\n",
       "      <td>NaN</td>\n",
       "      <td>NaN</td>\n",
       "      <td>NaN</td>\n",
       "    </tr>\n",
       "    <tr>\n",
       "      <th>2</th>\n",
       "      <td>Гастроэнтеролог</td>\n",
       "      <td>NaN</td>\n",
       "      <td>37</td>\n",
       "      <td>Мужской</td>\n",
       "      <td>Григорий Григорьевич Дмитриев, Москва</td>\n",
       "      <td>Здравствуйте! Жидкий стул в течение недели, пр...</td>\n",
       "      <td>Жидкий стул в течение недели</td>\n",
       "      <td>NaN</td>\n",
       "      <td>NaN</td>\n",
       "      <td>NaN</td>\n",
       "    </tr>\n",
       "    <tr>\n",
       "      <th>3</th>\n",
       "      <td>Гастроэнтеролог</td>\n",
       "      <td>NaN</td>\n",
       "      <td>20</td>\n",
       "      <td>Женский</td>\n",
       "      <td>Света, Киев</td>\n",
       "      <td>Здравствуйте, принимала 15 часов назад Доксици...</td>\n",
       "      <td>Кал черного цвета</td>\n",
       "      <td>NaN</td>\n",
       "      <td>NaN</td>\n",
       "      <td>NaN</td>\n",
       "    </tr>\n",
       "    <tr>\n",
       "      <th>4</th>\n",
       "      <td>Гастроэнтеролог</td>\n",
       "      <td>NaN</td>\n",
       "      <td>20</td>\n",
       "      <td>Женский</td>\n",
       "      <td>Света, Киев</td>\n",
       "      <td>Здравствуйте, принимала 15 часов назад Доксици...</td>\n",
       "      <td>Кал черного цвета</td>\n",
       "      <td>NaN</td>\n",
       "      <td>NaN</td>\n",
       "      <td>NaN</td>\n",
       "    </tr>\n",
       "  </tbody>\n",
       "</table>\n",
       "</div>"
      ],
      "text/plain": [
       "            doctor doctor_en     age   gender  \\\n",
       "0  Гастроэнтеролог       NaN   8 лет  Мужской   \n",
       "1  Гастроэнтеролог       NaN  36 лет  Мужской   \n",
       "2  Гастроэнтеролог       NaN      37  Мужской   \n",
       "3  Гастроэнтеролог       NaN      20  Женский   \n",
       "4  Гастроэнтеролог       NaN      20  Женский   \n",
       "\n",
       "                                    name  \\\n",
       "0                                Альбина   \n",
       "1                          Роман, Москва   \n",
       "2  Григорий Григорьевич Дмитриев, Москва   \n",
       "3                            Света, Киев   \n",
       "4                            Света, Киев   \n",
       "\n",
       "                                            question  \\\n",
       "0  Здравствуйте, у ребенка 30.06.17. были следующ...   \n",
       "1  Здравствуйте, мене очень интересует вопрос: пр...   \n",
       "2  Здравствуйте! Жидкий стул в течение недели, пр...   \n",
       "3  Здравствуйте, принимала 15 часов назад Доксици...   \n",
       "4  Здравствуйте, принимала 15 часов назад Доксици...   \n",
       "\n",
       "                          title answer doctor_name answer_date  \n",
       "0     Повышены показатели крови    NaN         NaN         NaN  \n",
       "1                Что эфиктивние    NaN         NaN         NaN  \n",
       "2  Жидкий стул в течение недели    NaN         NaN         NaN  \n",
       "3             Кал черного цвета    NaN         NaN         NaN  \n",
       "4             Кал черного цвета    NaN         NaN         NaN  "
      ]
     },
     "execution_count": 103,
     "metadata": {},
     "output_type": "execute_result"
    }
   ],
   "source": [
    "df.head()"
   ]
  },
  {
   "cell_type": "code",
   "execution_count": 70,
   "metadata": {
    "collapsed": true
   },
   "outputs": [],
   "source": [
    "df.to_csv('03online.csv', encoding='utf-8', index=False)"
   ]
  },
  {
   "cell_type": "code",
   "execution_count": null,
   "metadata": {
    "collapsed": true
   },
   "outputs": [],
   "source": []
  },
  {
   "cell_type": "code",
   "execution_count": null,
   "metadata": {
    "collapsed": true
   },
   "outputs": [],
   "source": []
  }
 ],
 "metadata": {
  "anaconda-cloud": {},
  "kernelspec": {
   "display_name": "Python [conda root]",
   "language": "python",
   "name": "conda-root-py"
  },
  "language_info": {
   "codemirror_mode": {
    "name": "ipython",
    "version": 3
   },
   "file_extension": ".py",
   "mimetype": "text/x-python",
   "name": "python",
   "nbconvert_exporter": "python",
   "pygments_lexer": "ipython3",
   "version": "3.5.3"
  }
 },
 "nbformat": 4,
 "nbformat_minor": 2
}
