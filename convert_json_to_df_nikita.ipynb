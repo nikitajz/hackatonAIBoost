{
 "cells": [
  {
   "cell_type": "code",
   "execution_count": 15,
   "metadata": {
    "collapsed": true
   },
   "outputs": [],
   "source": [
    "import pandas as pd\n",
    "from pandas.io.json import json_normalize\n",
    "import json"
   ]
  },
  {
   "cell_type": "code",
   "execution_count": 72,
   "metadata": {
    "collapsed": true
   },
   "outputs": [],
   "source": [
    "doctor_files = !ls data"
   ]
  },
  {
   "cell_type": "code",
   "execution_count": 73,
   "metadata": {},
   "outputs": [
    {
     "data": {
      "text/plain": [
       "['allergolog.json',\n",
       " 'ammolog.json',\n",
       " 'arkolog.json',\n",
       " 'dicinskiy_yurist.json',\n",
       " 'dietolog.json',\n",
       " 'fektsionist.json',\n",
       " 'frolog.json',\n",
       " 'ftalmolog.json',\n",
       " 'gastroenterolog.json',\n",
       " 'genetik.json',\n",
       " 'ginekologija.json',\n",
       " 'koraja_pomoshh_03_online.json',\n",
       " 'kosmetolog.json',\n",
       " 'ksolog.json',\n",
       " 'r.json',\n",
       " 'roktolog.json',\n",
       " 'rtoped_travmatolog.json',\n",
       " 'venerolog.json']"
      ]
     },
     "execution_count": 73,
     "metadata": {},
     "output_type": "execute_result"
    }
   ],
   "source": [
    "doctor_files"
   ]
  },
  {
   "cell_type": "code",
   "execution_count": 140,
   "metadata": {
    "collapsed": true
   },
   "outputs": [],
   "source": [
    "cols=['doctor', 'doctor_en', 'age', 'gender', 'name', 'question', 'title', 'answer', \n",
    "             'doctor_name', 'answer_date']"
   ]
  },
  {
   "cell_type": "code",
   "execution_count": 117,
   "metadata": {
    "collapsed": true
   },
   "outputs": [],
   "source": [
    "df = pd.DataFrame(columns=cols)"
   ]
  },
  {
   "cell_type": "code",
   "execution_count": 146,
   "metadata": {
    "collapsed": true
   },
   "outputs": [],
   "source": [
    "doc = pd.DataFrame(columns = cols)\n",
    "\n",
    "def convert_file(jsonf):\n",
    "\n",
    "    print(\"File length: \", len(jsonf[0]))\n",
    "    doctor_col = list() \n",
    "    doctor_name = list()\n",
    "    age = list()\n",
    "    gender = list()\n",
    "    name = list()\n",
    "    question = list()\n",
    "    title = list()\n",
    "    answer = list()\n",
    "    answer_date = list()\n",
    "    for e in jsonf:\n",
    "        doctor_col.append(e['cat_title'])\n",
    "        age.append(e['age'])\n",
    "        gender.append(e['sex'])\n",
    "        name.append(e['name'])\n",
    "        question.append(e['text'])\n",
    "        title.append(e['title'])\n",
    "        if len(e['answer']) > 0:\n",
    "            doctor_name.append(e['answer']['doctor_name'])\n",
    "            answer_date.append(e['answer']['date'])\n",
    "            answer.append(e['answer']['content'])\n",
    "        else:\n",
    "            doctor_name.append('')\n",
    "            answer_date.append('')\n",
    "            answer.append('')\n",
    "    doc = pd.DataFrame(\n",
    "        data= {'doctor': doctor_col, \n",
    "               'doctor_en': doctor_name,\n",
    "               'age': age, \n",
    "               'gender': gender, \n",
    "               'name': name, \n",
    "               'question': question, \n",
    "               'title': title, \n",
    "               'answer': answer, \n",
    "               'answer_date': answer_date}\n",
    "        )\n",
    "    print('{} shape: {}'.format(s['doctor'], doc.shape))\n",
    "    return doc"
   ]
  },
  {
   "cell_type": "code",
   "execution_count": 147,
   "metadata": {},
   "outputs": [
    {
     "name": "stdout",
     "output_type": "stream",
     "text": [
      "File length:  10\n",
      "Гастроэнтеролог shape: (5168, 9)\n"
     ]
    }
   ],
   "source": [
    "d = convert_file(jd)"
   ]
  },
  {
   "cell_type": "code",
   "execution_count": 148,
   "metadata": {},
   "outputs": [
    {
     "name": "stdout",
     "output_type": "stream",
     "text": [
      "Processing file: ammolog.json\n",
      "File length:  10\n",
      "Гастроэнтеролог shape: (5168, 9)\n",
      "Processing file: detskiy_endokrinolog.json\n",
      "File length:  10\n",
      "Гастроэнтеролог shape: (83, 9)\n",
      "Processing file: diatr.json\n",
      "File length:  10\n",
      "Гастроэнтеролог shape: (7988, 9)\n",
      "Processing file: dicinskiy_yurist.json\n",
      "File length:  10\n",
      "Гастроэнтеролог shape: (213, 9)\n",
      "Processing file: dietolog.json\n",
      "File length:  10\n",
      "Гастроэнтеролог shape: (1696, 9)\n",
      "Processing file: fektsionist.json\n",
      "File length:  10\n",
      "Гастроэнтеролог shape: (5760, 9)\n",
      "Processing file: fitoterapevt.json\n",
      "File length:  10\n",
      "Гастроэнтеролог shape: (208, 9)\n",
      "Processing file: ginekologija.json\n",
      "File length:  10\n",
      "Гастроэнтеролог shape: (8000, 9)\n",
      "Processing file: gomeopat.json\n",
      "File length:  10\n",
      "Гастроэнтеролог shape: (838, 9)\n",
      "Processing file: goped.json\n",
      "File length:  10\n",
      "Гастроэнтеролог shape: (381, 9)\n",
      "Processing file: kolog.json\n",
      "File length:  10\n",
      "Гастроэнтеролог shape: (2389, 9)\n",
      "Processing file: koraja_pomoshh_03_online.json\n",
      "File length:  10\n",
      "Гастроэнтеролог shape: (7986, 9)\n",
      "Processing file: ksolog.json\n",
      "File length:  10\n",
      "Гастроэнтеролог shape: (7011, 9)\n",
      "Processing file: roktolog.json\n",
      "File length:  10\n",
      "Гастроэнтеролог shape: (3052, 9)\n",
      "Processing file: vropatolog.json\n",
      "File length:  10\n",
      "Гастроэнтеролог shape: (7985, 9)\n"
     ]
    }
   ],
   "source": [
    "doctor_files = !ls data\n",
    "for ff in doctor_files:\n",
    "    print(\"Processing file:\", ff)\n",
    "    with open('/Users/nikita/Study/hackatonAIBoost/data/' + ff, 'r') as f:\n",
    "        jd = json.load(f)\n",
    "    df = df.append(convert_file(jd))"
   ]
  },
  {
   "cell_type": "code",
   "execution_count": null,
   "metadata": {
    "collapsed": true
   },
   "outputs": [],
   "source": []
  },
  {
   "cell_type": "code",
   "execution_count": 149,
   "metadata": {},
   "outputs": [
    {
     "data": {
      "text/plain": [
       "(59058, 10)"
      ]
     },
     "execution_count": 149,
     "metadata": {},
     "output_type": "execute_result"
    }
   ],
   "source": [
    "df.shape"
   ]
  },
  {
   "cell_type": "code",
   "execution_count": 151,
   "metadata": {
    "collapsed": true
   },
   "outputs": [],
   "source": [
    "df.to_csv('/Users/nikita/Study/hackatonAIBoost/03online.csv', encoding='utf-8', index=False)"
   ]
  },
  {
   "cell_type": "code",
   "execution_count": null,
   "metadata": {
    "collapsed": true
   },
   "outputs": [],
   "source": []
  },
  {
   "cell_type": "code",
   "execution_count": null,
   "metadata": {
    "collapsed": true
   },
   "outputs": [],
   "source": []
  }
 ],
 "metadata": {
  "anaconda-cloud": {},
  "kernelspec": {
   "display_name": "Python [conda root]",
   "language": "python",
   "name": "conda-root-py"
  },
  "language_info": {
   "codemirror_mode": {
    "name": "ipython",
    "version": 3
   },
   "file_extension": ".py",
   "mimetype": "text/x-python",
   "name": "python",
   "nbconvert_exporter": "python",
   "pygments_lexer": "ipython3",
   "version": "3.5.3"
  }
 },
 "nbformat": 4,
 "nbformat_minor": 2
}
