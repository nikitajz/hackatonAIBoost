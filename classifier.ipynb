{
 "cells": [
  {
   "cell_type": "code",
   "execution_count": 47,
   "metadata": {},
   "outputs": [],
   "source": [
    "import pandas as pd\n",
    "import numpy as np\n",
    "# import nltk\n",
    "# import stop_words\n",
    "from nltk.corpus import stopwords\n",
    "from sklearn.base import BaseEstimator, TransformerMixin\n",
    "from sklearn.feature_extraction.text import CountVectorizer, TfidfVectorizer\n",
    "from sklearn.linear_model import LogisticRegression\n",
    "from sklearn.pipeline import Pipeline\n",
    "from sklearn.svm import LinearSVC, SVC\n",
    "from sklearn.metrics import accuracy_score, classification_report, confusion_matrix, f1_score\n",
    "from sklearn.model_selection import KFold, GridSearchCV, train_test_split, cross_val_score, StratifiedKFold, ParameterGrid\n",
    "from sklearn import preprocessing\n",
    "from sklearn.multiclass import OneVsRestClassifier\n",
    "from sklearn.preprocessing import MultiLabelBinarizer\n",
    "from datetime import date\n",
    "# import fastnumbers\n",
    "import re\n",
    "# from fastnumbers import isfloat, isint\n",
    "import eli5\n",
    "from eli5.lime import TextExplainer"
   ]
  },
  {
   "cell_type": "code",
   "execution_count": 7,
   "metadata": {
    "collapsed": true
   },
   "outputs": [
    {
     "name": "stdout",
     "output_type": "stream",
     "text": [
      "Collecting eli5\n",
      "  Downloading eli5-0.8-py2.py3-none-any.whl (97kB)\n",
      "\u001b[K    100% |████████████████████████████████| 102kB 843kB/s a 0:00:01\n",
      "\u001b[?25hRequirement already satisfied: singledispatch>=3.4.0.3 in /Users/nikita/anaconda/lib/python3.5/site-packages (from eli5)\n",
      "Collecting typing (from eli5)\n",
      "  Downloading typing-3.6.2-py3-none-any.whl\n",
      "Requirement already satisfied: scikit-learn>=0.18 in /Users/nikita/anaconda/lib/python3.5/site-packages (from eli5)\n",
      "Requirement already satisfied: six in /Users/nikita/anaconda/lib/python3.5/site-packages (from eli5)\n",
      "Collecting graphviz (from eli5)\n",
      "  Downloading graphviz-0.8-py2.py3-none-any.whl\n",
      "Requirement already satisfied: scipy in /Users/nikita/anaconda/lib/python3.5/site-packages (from eli5)\n",
      "Collecting tabulate>=0.7.7 (from eli5)\n",
      "  Downloading tabulate-0.7.7-py2.py3-none-any.whl\n",
      "Requirement already satisfied: jinja2 in /Users/nikita/anaconda/lib/python3.5/site-packages (from eli5)\n",
      "Collecting attrs>16.0.0 (from eli5)\n",
      "  Downloading attrs-17.2.0-py2.py3-none-any.whl\n",
      "Requirement already satisfied: numpy>=1.9.0 in /Users/nikita/anaconda/lib/python3.5/site-packages (from eli5)\n",
      "Requirement already satisfied: MarkupSafe>=0.23 in /Users/nikita/anaconda/lib/python3.5/site-packages (from jinja2->eli5)\n",
      "Installing collected packages: typing, graphviz, tabulate, attrs, eli5\n",
      "Successfully installed attrs-17.2.0 eli5-0.8 graphviz-0.8 tabulate-0.7.7 typing-3.6.2\n"
     ]
    }
   ],
   "source": [
    "# !pip install eli5"
   ]
  },
  {
   "cell_type": "code",
   "execution_count": 57,
   "metadata": {
    "collapsed": true
   },
   "outputs": [],
   "source": [
    "data = pd.read_csv('03online.csv', encoding='utf-8')"
   ]
  },
  {
   "cell_type": "code",
   "execution_count": 59,
   "metadata": {
    "collapsed": true
   },
   "outputs": [],
   "source": [
    "data['question'] = data['question'].astype(str).apply(lambda x: x.lower())\n",
    "data['question'] = data['question'].astype(str)\\\n",
    "    .apply(lambda x: re.sub('(<\\S+>:?)|(\\s?:\\S+:\\s?)|(&gt;)|([\\w\\.]*@[\\w\\.]*)', ' ', x)) \\\n",
    "    .apply(lambda x: re.sub('\\s+', ' ', x))\n"
   ]
  },
  {
   "cell_type": "code",
   "execution_count": 60,
   "metadata": {},
   "outputs": [
    {
     "data": {
      "text/html": [
       "<div>\n",
       "<style>\n",
       "    .dataframe thead tr:only-child th {\n",
       "        text-align: right;\n",
       "    }\n",
       "\n",
       "    .dataframe thead th {\n",
       "        text-align: left;\n",
       "    }\n",
       "\n",
       "    .dataframe tbody tr th {\n",
       "        vertical-align: top;\n",
       "    }\n",
       "</style>\n",
       "<table border=\"1\" class=\"dataframe\">\n",
       "  <thead>\n",
       "    <tr style=\"text-align: right;\">\n",
       "      <th></th>\n",
       "      <th>doctor</th>\n",
       "      <th>eng_doctor</th>\n",
       "      <th>person_age</th>\n",
       "      <th>person_gender</th>\n",
       "      <th>person_name</th>\n",
       "      <th>question</th>\n",
       "      <th>question_title</th>\n",
       "      <th>doctor_answer</th>\n",
       "    </tr>\n",
       "  </thead>\n",
       "  <tbody>\n",
       "    <tr>\n",
       "      <th>0</th>\n",
       "      <td>Гинеколог</td>\n",
       "      <td>ginekologija</td>\n",
       "      <td>38</td>\n",
       "      <td>Женский</td>\n",
       "      <td>Ольга, Ростов-на-Дону</td>\n",
       "      <td>здравствуйте, помогите, пожалуйста, разобратьс...</td>\n",
       "      <td>Расшифровка результата мазка и цитологии</td>\n",
       "      <td>NaN</td>\n",
       "    </tr>\n",
       "    <tr>\n",
       "      <th>1</th>\n",
       "      <td>Гинеколог</td>\n",
       "      <td>ginekologija</td>\n",
       "      <td>20</td>\n",
       "      <td>Женский</td>\n",
       "      <td>алена, южно сахалинск</td>\n",
       "      <td>здравствуйте, у меня сложилась такая проблема ...</td>\n",
       "      <td>Задержка месячных и обильные выделения</td>\n",
       "      <td>NaN</td>\n",
       "    </tr>\n",
       "    <tr>\n",
       "      <th>2</th>\n",
       "      <td>Гинеколог</td>\n",
       "      <td>ginekologija</td>\n",
       "      <td>31</td>\n",
       "      <td>Женский</td>\n",
       "      <td>Анастасия</td>\n",
       "      <td>здравствуйте, я уже 5 месяцев принимаю джес. п...</td>\n",
       "      <td>Препарат джес и узи органов малого таза</td>\n",
       "      <td>NaN</td>\n",
       "    </tr>\n",
       "    <tr>\n",
       "      <th>3</th>\n",
       "      <td>Гинеколог</td>\n",
       "      <td>ginekologija</td>\n",
       "      <td>23</td>\n",
       "      <td>Женский</td>\n",
       "      <td>Лина, Москва</td>\n",
       "      <td>здравствуйте, такая проблема, последние месячн...</td>\n",
       "      <td>Беременность или ПМС?</td>\n",
       "      <td>NaN</td>\n",
       "    </tr>\n",
       "    <tr>\n",
       "      <th>4</th>\n",
       "      <td>Гинеколог</td>\n",
       "      <td>ginekologija</td>\n",
       "      <td>16</td>\n",
       "      <td>Женский</td>\n",
       "      <td>Сабрина, Россия, Башкортостан,Уфа</td>\n",
       "      <td>здравствуйте, мне 16 лет. я не девственница с ...</td>\n",
       "      <td>Нужно ли идти к гинекологу и венерологу?</td>\n",
       "      <td>NaN</td>\n",
       "    </tr>\n",
       "  </tbody>\n",
       "</table>\n",
       "</div>"
      ],
      "text/plain": [
       "      doctor    eng_doctor person_age person_gender  \\\n",
       "0  Гинеколог  ginekologija         38       Женский   \n",
       "1  Гинеколог  ginekologija         20       Женский   \n",
       "2  Гинеколог  ginekologija         31       Женский   \n",
       "3  Гинеколог  ginekologija         23       Женский   \n",
       "4  Гинеколог  ginekologija         16       Женский   \n",
       "\n",
       "                         person_name  \\\n",
       "0              Ольга, Ростов-на-Дону   \n",
       "1              алена, южно сахалинск   \n",
       "2                          Анастасия   \n",
       "3                       Лина, Москва   \n",
       "4  Сабрина, Россия, Башкортостан,Уфа   \n",
       "\n",
       "                                            question  \\\n",
       "0  здравствуйте, помогите, пожалуйста, разобратьс...   \n",
       "1  здравствуйте, у меня сложилась такая проблема ...   \n",
       "2  здравствуйте, я уже 5 месяцев принимаю джес. п...   \n",
       "3  здравствуйте, такая проблема, последние месячн...   \n",
       "4  здравствуйте, мне 16 лет. я не девственница с ...   \n",
       "\n",
       "                             question_title  doctor_answer  \n",
       "0  Расшифровка результата мазка и цитологии            NaN  \n",
       "1    Задержка месячных и обильные выделения            NaN  \n",
       "2   Препарат джес и узи органов малого таза            NaN  \n",
       "3                     Беременность или ПМС?            NaN  \n",
       "4  Нужно ли идти к гинекологу и венерологу?            NaN  "
      ]
     },
     "execution_count": 60,
     "metadata": {},
     "output_type": "execute_result"
    }
   ],
   "source": [
    "data.head()"
   ]
  },
  {
   "cell_type": "code",
   "execution_count": 45,
   "metadata": {},
   "outputs": [],
   "source": [
    "X_train, X_test, y_train, y_test = train_test_split(data.drop(['doctor', 'eng_doctor'], axis=1), data['doctor'], \n",
    "                                                    test_size=0.3, random_state=42)"
   ]
  },
  {
   "cell_type": "code",
   "execution_count": 46,
   "metadata": {},
   "outputs": [
    {
     "data": {
      "text/html": [
       "<div>\n",
       "<style>\n",
       "    .dataframe thead tr:only-child th {\n",
       "        text-align: right;\n",
       "    }\n",
       "\n",
       "    .dataframe thead th {\n",
       "        text-align: left;\n",
       "    }\n",
       "\n",
       "    .dataframe tbody tr th {\n",
       "        vertical-align: top;\n",
       "    }\n",
       "</style>\n",
       "<table border=\"1\" class=\"dataframe\">\n",
       "  <thead>\n",
       "    <tr style=\"text-align: right;\">\n",
       "      <th></th>\n",
       "      <th>person_age</th>\n",
       "      <th>person_gender</th>\n",
       "      <th>person_name</th>\n",
       "      <th>question</th>\n",
       "      <th>question_title</th>\n",
       "      <th>doctor_answer</th>\n",
       "    </tr>\n",
       "  </thead>\n",
       "  <tbody>\n",
       "    <tr>\n",
       "      <th>402</th>\n",
       "      <td>26</td>\n",
       "      <td>Женский</td>\n",
       "      <td>Алёна, Челябинск</td>\n",
       "      <td>здравствуйте. сегодня была в стоматологии на г...</td>\n",
       "      <td>Гигиена полости рта</td>\n",
       "      <td>NaN</td>\n",
       "    </tr>\n",
       "    <tr>\n",
       "      <th>118</th>\n",
       "      <td>32</td>\n",
       "      <td>Женский</td>\n",
       "      <td>Оксана, Сочи</td>\n",
       "      <td>здравствуйте, сдала на гормоны щитовидной желе...</td>\n",
       "      <td>Рост узла в щитовидной железе</td>\n",
       "      <td>NaN</td>\n",
       "    </tr>\n",
       "    <tr>\n",
       "      <th>114</th>\n",
       "      <td>26</td>\n",
       "      <td>Женский</td>\n",
       "      <td>Ирина</td>\n",
       "      <td>здравствуйте, мне 26 лет, вес 58 кг, рост 153 ...</td>\n",
       "      <td>До скольки кг можно мне худеть?</td>\n",
       "      <td>NaN</td>\n",
       "    </tr>\n",
       "    <tr>\n",
       "      <th>137</th>\n",
       "      <td>28</td>\n",
       "      <td>Мужской</td>\n",
       "      <td>Александр</td>\n",
       "      <td>здравствуйте, 3 недели назад получил сильный у...</td>\n",
       "      <td>Повреждение связок, узи результат</td>\n",
       "      <td>NaN</td>\n",
       "    </tr>\n",
       "    <tr>\n",
       "      <th>318</th>\n",
       "      <td>52</td>\n",
       "      <td>Женский</td>\n",
       "      <td>Елена, ЛО</td>\n",
       "      <td>здравствуйте, роман эдуардович. по биопсии упл...</td>\n",
       "      <td>Полип желудка</td>\n",
       "      <td>NaN</td>\n",
       "    </tr>\n",
       "    <tr>\n",
       "      <th>286</th>\n",
       "      <td>16</td>\n",
       "      <td>Женский</td>\n",
       "      <td>Анастасия</td>\n",
       "      <td>здравствуйте! можно ли принимать ликопид 10 мг...</td>\n",
       "      <td>Одновременное применение имунных</td>\n",
       "      <td>NaN</td>\n",
       "    </tr>\n",
       "    <tr>\n",
       "      <th>157</th>\n",
       "      <td>44</td>\n",
       "      <td>Мужской</td>\n",
       "      <td>Олег, Крыловская</td>\n",
       "      <td>здравствуйте, прошёл узи сказали, что увеличен...</td>\n",
       "      <td>Увеличенная печень и поджелудочная железа</td>\n",
       "      <td>NaN</td>\n",
       "    </tr>\n",
       "    <tr>\n",
       "      <th>383</th>\n",
       "      <td>24</td>\n",
       "      <td>Женский</td>\n",
       "      <td>Екатерина, Москва</td>\n",
       "      <td>здравствуйте, прошу рассмотреть данный снимок ...</td>\n",
       "      <td>Есть ли гайморит</td>\n",
       "      <td>NaN</td>\n",
       "    </tr>\n",
       "    <tr>\n",
       "      <th>378</th>\n",
       "      <td>24</td>\n",
       "      <td>Женский</td>\n",
       "      <td>Алена, Одесса</td>\n",
       "      <td>здравствуйте, я обратилась к косметологу с про...</td>\n",
       "      <td>Восстановление после пилинга</td>\n",
       "      <td>NaN</td>\n",
       "    </tr>\n",
       "    <tr>\n",
       "      <th>411</th>\n",
       "      <td>42</td>\n",
       "      <td>Женский</td>\n",
       "      <td>Кнара</td>\n",
       "      <td>здравствуйте, здравствуйте, здравствуйте! в ан...</td>\n",
       "      <td>Какие макролиты нужно для лечения хламидиоза</td>\n",
       "      <td>NaN</td>\n",
       "    </tr>\n",
       "  </tbody>\n",
       "</table>\n",
       "</div>"
      ],
      "text/plain": [
       "    person_age person_gender        person_name  \\\n",
       "402         26       Женский   Алёна, Челябинск   \n",
       "118         32       Женский       Оксана, Сочи   \n",
       "114         26       Женский              Ирина   \n",
       "137         28       Мужской          Александр   \n",
       "318         52       Женский          Елена, ЛО   \n",
       "286         16       Женский          Анастасия   \n",
       "157         44       Мужской   Олег, Крыловская   \n",
       "383         24       Женский  Екатерина, Москва   \n",
       "378         24       Женский      Алена, Одесса   \n",
       "411         42       Женский              Кнара   \n",
       "\n",
       "                                              question  \\\n",
       "402  здравствуйте. сегодня была в стоматологии на г...   \n",
       "118  здравствуйте, сдала на гормоны щитовидной желе...   \n",
       "114  здравствуйте, мне 26 лет, вес 58 кг, рост 153 ...   \n",
       "137  здравствуйте, 3 недели назад получил сильный у...   \n",
       "318  здравствуйте, роман эдуардович. по биопсии упл...   \n",
       "286  здравствуйте! можно ли принимать ликопид 10 мг...   \n",
       "157  здравствуйте, прошёл узи сказали, что увеличен...   \n",
       "383  здравствуйте, прошу рассмотреть данный снимок ...   \n",
       "378  здравствуйте, я обратилась к косметологу с про...   \n",
       "411  здравствуйте, здравствуйте, здравствуйте! в ан...   \n",
       "\n",
       "                                   question_title  doctor_answer  \n",
       "402                           Гигиена полости рта            NaN  \n",
       "118                 Рост узла в щитовидной железе            NaN  \n",
       "114               До скольки кг можно мне худеть?            NaN  \n",
       "137             Повреждение связок, узи результат            NaN  \n",
       "318                                 Полип желудка            NaN  \n",
       "286              Одновременное применение имунных            NaN  \n",
       "157     Увеличенная печень и поджелудочная железа            NaN  \n",
       "383                              Есть ли гайморит            NaN  \n",
       "378                  Восстановление после пилинга            NaN  \n",
       "411  Какие макролиты нужно для лечения хламидиоза            NaN  "
      ]
     },
     "execution_count": 46,
     "metadata": {},
     "output_type": "execute_result"
    }
   ],
   "source": [
    "X_train[:10]"
   ]
  },
  {
   "cell_type": "code",
   "execution_count": 42,
   "metadata": {},
   "outputs": [
    {
     "data": {
      "text/plain": [
       "Сексолог-Андролог    8\n",
       "Аллерголог           5\n",
       "Лор                  5\n",
       "Гинеколог            5\n",
       "Фармацевт            5\n",
       "Name: doctor, dtype: int64"
      ]
     },
     "execution_count": 42,
     "metadata": {},
     "output_type": "execute_result"
    }
   ],
   "source": [
    "y_test.value_counts()[:5]"
   ]
  },
  {
   "cell_type": "code",
   "execution_count": 43,
   "metadata": {},
   "outputs": [
    {
     "data": {
      "text/plain": [
       "Хирург            10\n",
       "Онкоуролог        10\n",
       "Инфекционист      10\n",
       "Детский хирург     9\n",
       "Уролог             9\n",
       "Name: doctor, dtype: int64"
      ]
     },
     "execution_count": 43,
     "metadata": {},
     "output_type": "execute_result"
    }
   ],
   "source": [
    "y_train.value_counts()[:5]"
   ]
  },
  {
   "cell_type": "code",
   "execution_count": 18,
   "metadata": {},
   "outputs": [
    {
     "data": {
      "text/plain": [
       "(430, 8)"
      ]
     },
     "execution_count": 18,
     "metadata": {},
     "output_type": "execute_result"
    }
   ],
   "source": [
    "data.shape"
   ]
  },
  {
   "cell_type": "code",
   "execution_count": 19,
   "metadata": {},
   "outputs": [
    {
     "data": {
      "text/plain": [
       "(301, 6)"
      ]
     },
     "execution_count": 19,
     "metadata": {},
     "output_type": "execute_result"
    }
   ],
   "source": [
    "X_train.shape"
   ]
  },
  {
   "cell_type": "code",
   "execution_count": 20,
   "metadata": {},
   "outputs": [
    {
     "data": {
      "text/plain": [
       "(129, 6)"
      ]
     },
     "execution_count": 20,
     "metadata": {},
     "output_type": "execute_result"
    }
   ],
   "source": [
    "X_test.shape"
   ]
  },
  {
   "cell_type": "code",
   "execution_count": 21,
   "metadata": {},
   "outputs": [
    {
     "data": {
      "text/plain": [
       "(301,)"
      ]
     },
     "execution_count": 21,
     "metadata": {},
     "output_type": "execute_result"
    }
   ],
   "source": [
    "y_train.shape"
   ]
  },
  {
   "cell_type": "code",
   "execution_count": 22,
   "metadata": {},
   "outputs": [
    {
     "data": {
      "text/plain": [
       "(129,)"
      ]
     },
     "execution_count": 22,
     "metadata": {},
     "output_type": "execute_result"
    }
   ],
   "source": [
    "y_test.shape"
   ]
  },
  {
   "cell_type": "code",
   "execution_count": 38,
   "metadata": {
    "collapsed": true
   },
   "outputs": [],
   "source": [
    "class TextPreprocessing(BaseEstimator, TransformerMixin):\n",
    "    def __init__(self, stopwords):\n",
    "        self.stopwords = stopwords\n",
    "    def fit(self, X, y):\n",
    "        from numpy import shape, argsort, ceil\n",
    "        X_pos, X_neg = X[y==1], X[y==0]\n",
    "        X_mean = X.mean(axis=0)\n",
    "        X_pos_mean, X_neg_mean = X_pos.mean(axis=0), X_neg.mean(axis=0)\n",
    "        deno = (1.0/(shape(X_pos)[0]-1))*X_pos.var(axis=0) + (1.0/(shape(X_neg)[0]-1))*X_neg.var(axis=0)\n",
    "        num = (X_pos_mean - X_mean)**2 + (X_neg_mean - X_mean)**2\n",
    "        F = num/deno\n",
    "        sort_F = argsort(F)[::-1]\n",
    "        n_feature = (float(self.percentile)/100)*shape(X)[1]\n",
    "        self.ind_feature = sort_F[:ceil(n_feature)]\n",
    "        return self\n",
    "    def transform(self, x):\n",
    "        return x[self.ind_feature,:]"
   ]
  },
  {
   "cell_type": "code",
   "execution_count": null,
   "metadata": {
    "collapsed": true
   },
   "outputs": [],
   "source": []
  },
  {
   "cell_type": "code",
   "execution_count": 50,
   "metadata": {},
   "outputs": [
    {
     "name": "stdout",
     "output_type": "stream",
     "text": [
      "showing info https://raw.githubusercontent.com/nltk/nltk_data/gh-pages/index.xml\n"
     ]
    },
    {
     "data": {
      "text/plain": [
       "True"
      ]
     },
     "execution_count": 50,
     "metadata": {},
     "output_type": "execute_result"
    }
   ],
   "source": [
    "# nltk.download()"
   ]
  },
  {
   "cell_type": "code",
   "execution_count": null,
   "metadata": {
    "collapsed": true
   },
   "outputs": [],
   "source": []
  },
  {
   "cell_type": "code",
   "execution_count": 54,
   "metadata": {},
   "outputs": [],
   "source": [
    "classifier = Pipeline([\n",
    "    ('vectorizer', TfidfVectorizer(analyzer = 'char', max_features = 1000000, lowercase = True, \n",
    "                                   stop_words = stopwords.words('russian'), ngram_range = (1, 4))),\n",
    "    ('clf', OneVsRestClassifier(LogisticRegression(), n_jobs=-1))])"
   ]
  },
  {
   "cell_type": "code",
   "execution_count": null,
   "metadata": {
    "collapsed": true
   },
   "outputs": [],
   "source": []
  },
  {
   "cell_type": "code",
   "execution_count": 55,
   "metadata": {},
   "outputs": [
    {
     "data": {
      "text/plain": [
       "Pipeline(memory=None,\n",
       "     steps=[('vectorizer', TfidfVectorizer(analyzer='char', binary=False, decode_error='strict',\n",
       "        dtype=<class 'numpy.int64'>, encoding='utf-8', input='content',\n",
       "        lowercase=True, max_df=1.0, max_features=1000000, min_df=1,\n",
       "        ngram_range=(1, 4), norm='l2', preprocessor=None, smooth_idf...None, solver='liblinear', tol=0.0001,\n",
       "          verbose=0, warm_start=False),\n",
       "          n_jobs=-1))])"
      ]
     },
     "execution_count": 55,
     "metadata": {},
     "output_type": "execute_result"
    }
   ],
   "source": [
    "classifier.fit(X_train['question_title'], y_train)"
   ]
  },
  {
   "cell_type": "code",
   "execution_count": 56,
   "metadata": {},
   "outputs": [
    {
     "data": {
      "text/plain": [
       "0.14728682170542637"
      ]
     },
     "execution_count": 56,
     "metadata": {},
     "output_type": "execute_result"
    }
   ],
   "source": [
    "predicted = classifier.predict(X_test['question_title'])\n",
    "accuracy_score(predicted, y_test)"
   ]
  },
  {
   "cell_type": "code",
   "execution_count": null,
   "metadata": {
    "collapsed": true
   },
   "outputs": [],
   "source": []
  },
  {
   "cell_type": "code",
   "execution_count": null,
   "metadata": {
    "collapsed": true
   },
   "outputs": [],
   "source": []
  },
  {
   "cell_type": "code",
   "execution_count": null,
   "metadata": {
    "collapsed": true
   },
   "outputs": [],
   "source": []
  }
 ],
 "metadata": {
  "anaconda-cloud": {},
  "kernelspec": {
   "display_name": "Python [conda root]",
   "language": "python",
   "name": "conda-root-py"
  },
  "language_info": {
   "codemirror_mode": {
    "name": "ipython",
    "version": 3
   },
   "file_extension": ".py",
   "mimetype": "text/x-python",
   "name": "python",
   "nbconvert_exporter": "python",
   "pygments_lexer": "ipython3",
   "version": "3.5.3"
  }
 },
 "nbformat": 4,
 "nbformat_minor": 2
}
